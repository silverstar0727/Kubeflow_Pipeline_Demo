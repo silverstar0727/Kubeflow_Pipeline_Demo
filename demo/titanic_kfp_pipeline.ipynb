{
  "nbformat": 4,
  "nbformat_minor": 0,
  "metadata": {
    "colab": {
      "name": "titanic_kfp_pipeline.ipynb",
      "provenance": [],
      "collapsed_sections": []
    },
    "kernelspec": {
      "name": "python3",
      "display_name": "Python 3"
    }
  },
  "cells": [
    {
      "cell_type": "code",
      "metadata": {
        "id": "WXq4cpUBnoM5"
      },
      "source": [
        "PROJECT_ID = 'clean-galaxy-300414'\r\n",
        "IMAGE_PREFIX = 'jeongmin-titanic'\r\n",
        "PREPROC_DIR = 'preprocess'\r\n",
        "TRAIN_DIR = 'train'\r\n",
        "\r\n",
        "WORK_BUCKET = 'gs://clean-galaxy-300414-kubeflowpipelines-default'\r\n",
        "RAW_CSV_GCS_URI = WORK_BUCKET + '/rawdata/train.csv'\r\n",
        "PREPROC_CSV_GCS_URI = WORK_BUCKET + '/preprocdata/processed_train.csv'\r\n",
        "ACC_CSV_GCS_URI = WORK_BUCKET + '/latestacc/accuracy.csv'\r\n",
        "MODEL_PKL_GCS_URI = WORK_BUCKET + '/model/model.pkl'\r\n",
        "STAGE_GCS_FOLDER = WORK_BUCKET + '/stage'\r\n",
        "\r\n",
        "AIPJOB_TRAINER_GCS_PATH = WORK_BUCKET + '/train/titanic_train.tar.gz'\r\n",
        "AIPJOB_OUTPUT_GCS_PATH = WORK_BUCKET + '/train/output/'"
      ],
      "execution_count": null,
      "outputs": []
    },
    {
      "cell_type": "code",
      "metadata": {
        "id": "qldEoEK5syU0"
      },
      "source": [
        "import os\r\n",
        "os.environ['PROJECT_ID'] = PROJECT_ID\r\n",
        "os.environ['IMAGE_PREFIX'] = IMAGE_PREFIX\r\n",
        "os.environ['PREPROC_DIR'] = PREPROC_DIR\r\n",
        "os.environ['TRAIN_DIR'] = TRAIN_DIR\r\n",
        "os.environ['WORK_BUCKET'] = WORK_BUCKET\r\n",
        "os.environ['RAW_CSV_GCS_URI'] = RAW_CSV_GCS_URI\r\n",
        "os.environ['PREPROC_CSV_GCS_URI'] = PREPROC_CSV_GCS_URI\r\n",
        "os.environ['ACC_CSV_GCS_URI'] = ACC_CSV_GCS_URI\r\n",
        "os.environ['MODEL_PKL_GCS_URI'] = MODEL_PKL_GCS_URI\r\n",
        "os.environ['STAGE_GCS_FOLDER'] = STAGE_GCS_FOLDER\r\n",
        "os.environ['AIPJOB_TRAINER_GCS_PATH'] = AIPJOB_TRAINER_GCS_PATH\r\n",
        "os.environ['AIPJOB_OUTPUT_GCS_PATH'] = AIPJOB_OUTPUT_GCS_PATH"
      ],
      "execution_count": null,
      "outputs": []
    },
    {
      "cell_type": "code",
      "metadata": {
        "id": "iCga2FypsvjL"
      },
      "source": [
        "!echo $PROJECT_ID\r\n",
        "!echo $IMAGE_PREFIX\r\n",
        "!echo $PREPROC_DIR\r\n",
        "!echo $TRAIN_DIR\r\n",
        "!echo $WORK_BUCKET\r\n",
        "!echo $RAW_CSV_GCS_URI\r\n",
        "!echo $PREPROC_CSV_GCS_URI\r\n",
        "!echo $ACC_CSV_GCS_URI\r\n",
        "!echo $MODEL_PKL_GCS_URI\r\n",
        "!echo $STAGE_GCS_FOLDER\r\n",
        "!echo $AIPJOB_TRAINER_GCS_PATH\r\n",
        "!echo $AIPJOB_OUTPUT_GCS_PATH"
      ],
      "execution_count": null,
      "outputs": []
    },
    {
      "cell_type": "code",
      "metadata": {
        "id": "JK6lmnFsti5B"
      },
      "source": [
        "!docker build -t $IMAGE_PREFIX-$PREPROC_DIR $PREPROC_DIR/.\r\n",
        "!docker tag $IMAGE_PREFIX-$PREPROC_DIR:latest gcr.io/$PROJECT_ID/$IMAGE_PREFIX-$PREPROC_DIR:latest\r\n",
        "!docker push gcr.io/$PROJECT_ID/$IMAGE_PREFIX-$PREPROC_DIR:latest"
      ],
      "execution_count": null,
      "outputs": []
    },
    {
      "cell_type": "code",
      "metadata": {
        "id": "sXq3R2ijwDIh"
      },
      "source": [
        "!docker run gcr.io/$PROJECT_ID/$IMAGE_PREFIX-$PREPROC_DIR:latest --raw_csv_gcs_uri $RAW_CSV_GCS_URI --preproc_csv_gcs_uri $PREPROC_CSV_GCS_URI"
      ],
      "execution_count": null,
      "outputs": []
    },
    {
      "cell_type": "code",
      "metadata": {
        "id": "nIwQgvQpwDEd"
      },
      "source": [
        "!docker build -t $IMAGE_PREFIX-$TRAIN_DIR $TRAIN_DIR/.\r\n",
        "!docker tag $IMAGE_PREFIX-$TRAIN_DIR:latest gcr.io/$PROJECT_ID/$IMAGE_PREFIX-$TRAIN_DIR:latest\r\n",
        "!docker push gcr.io/$PROJECT_ID/$IMAGE_PREFIX-$TRAIN_DIR:latest"
      ],
      "execution_count": null,
      "outputs": []
    },
    {
      "cell_type": "code",
      "metadata": {
        "id": "A2QW4xb364qP"
      },
      "source": [
        "!docker run gcr.io/$PROJECT_ID/$IMAGE_PREFIX-$TRAIN_DIR:latest \\\r\n",
        "    --preproc_csv_gcs_uri $PREPROC_CSV_GCS_URI \\\r\n",
        "    --model_pkl_gcs_uri $MODEL_PKL_GCS_URI \\\r\n",
        "    --acc_csv_gcs_uri $ACC_CSV_GCS_URI \\\r\n",
        "    --min_acc_progress 0.000001"
      ],
      "execution_count": null,
      "outputs": []
    },
    {
      "cell_type": "code",
      "metadata": {
        "id": "iVl9yfe17LDc"
      },
      "source": [
        "!rm -fr titanic_train.tar.gz\r\n",
        "!tar zcvf titanic_train.tar.gz *\r\n",
        "!gsutil cp titanic_train.tar.gz $AIPJOB_TRAINER_GCS_PATH"
      ],
      "execution_count": null,
      "outputs": []
    }
  ]
}